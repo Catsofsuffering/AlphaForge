{
 "cells": [
  {
   "cell_type": "code",
   "execution_count": 5,
   "metadata": {},
   "outputs": [
    {
     "name": "stdout",
     "output_type": "stream",
     "text": [
      "CUDA available: True\n",
      "CUDA version: 12.8\n",
      "Available devices: ['NVIDIA GeForce RTX 5070']\n"
     ]
    }
   ],
   "source": [
    "import torch\n",
    "from torch import nn\n",
    "import os\n",
    "import pandas as pd\n",
    "\n",
    "# os.environ[\"CUDA_VISIBLE_DEVICES\"] = \"1\"\n",
    "# from alphagen.config import *\n",
    "# from alphagen.data.tokens import *\n",
    "from alphagen.models.alpha_pool import AlphaPoolBase, AlphaPool\n",
    "from alphagen.rl.env.core import AlphaEnvCore\n",
    "import torch.nn.functional as F\n",
    "from gan.dataset import Collector\n",
    "from gan.network.generater import NetG_DCGAN\n",
    "from gan.network.masker import NetM\n",
    "from gan.network.predictor import NetP, train_regression_model, train_regression_model_with_weight\n",
    "from alphagen.rl.env.wrapper import SIZE_ACTION, action2token\n",
    "\n",
    "from alphagen_generic.features import open_\n",
    "from gan.utils import Builders\n",
    "from alphagen_generic.features import *\n",
    "from alphagen.data.expression import *\n",
    "\n",
    "from gan.utils.data import get_data_by_year\n",
    "\n",
    "print(f'CUDA available: {torch.cuda.is_available()}')\n",
    "print(f'CUDA version: {torch.version.cuda}')\n",
    "print(f'Available devices: {[torch.cuda.get_device_name(i) for i in range(torch.cuda.device_count())]}')"
   ]
  },
  {
   "cell_type": "code",
   "execution_count": 6,
   "metadata": {},
   "outputs": [],
   "source": [
    "instruments: str = \"csi500\"\n",
    "freq = 'day'\n",
    "save_name = 'test'\n",
    "window = float('inf')"
   ]
  },
  {
   "cell_type": "code",
   "execution_count": 8,
   "metadata": {},
   "outputs": [
    {
     "name": "stdout",
     "output_type": "stream",
     "text": [
      "10 0 2020\n"
     ]
    },
    {
     "name": "stderr",
     "output_type": "stream",
     "text": [
      "C:\\Users\\peony\\AppData\\Local\\Temp\\ipykernel_22520\\1326445300.py:35: FutureWarning: The previous implementation of stack is deprecated and will be removed in a future version of pandas. See the What's New notes for pandas 2.1.0 for details. Specify future_stack=True to adopt the new implementation and silence this warning.\n",
      "  all_pred_df_list.append(cur_df.unstack().iloc[-data_test.n_days :].stack())\n"
     ]
    }
   ],
   "source": [
    "from alphagen.utils.correlation import batch_pearsonr, batch_spearmanr\n",
    "\n",
    "device = \"cuda:0\"\n",
    "result = []\n",
    "pred_dfs = {}\n",
    "# for n_factors in [1, 10, 20, 50, 100]:\n",
    "n_factors = 10\n",
    "for seed in [0]:\n",
    "    cur_seed_ic = []\n",
    "    cur_seed_ric = []\n",
    "    all_pred_df_list = []\n",
    "    for train_end in range(2020, 2021):\n",
    "        print(n_factors, seed, train_end)\n",
    "        returned = get_data_by_year(\n",
    "            train_start=2010,\n",
    "            train_end=train_end,\n",
    "            valid_year=train_end + 1,\n",
    "            test_year=train_end + 2,\n",
    "            instruments=instruments,\n",
    "            target=target,\n",
    "            freq=freq,\n",
    "        )\n",
    "        data_all, data, data_valid, data_valid_withhead, data_test, data_test_withhead, name = returned\n",
    "\n",
    "        path = f\"out/{save_name}_{instruments}_{train_end}_{seed}/z_bld_zoo_final.pkl\"\n",
    "        tensor_save_path = f\"out/{save_name}_{instruments}_{train_end}_{seed}/pred_{train_end}_{n_factors}_{window}_{seed}.pt\"\n",
    "\n",
    "        pred = torch.load(tensor_save_path).to(device)\n",
    "        tgt = target.evaluate(data_all)\n",
    "\n",
    "        ones = torch.ones_like(tgt)\n",
    "        ones = ones * torch.nan\n",
    "        ones[-data_test.n_days :] = pred\n",
    "        cur_df = data_all.make_dataframe(ones)\n",
    "        all_pred_df_list.append(cur_df.unstack().iloc[-data_test.n_days :].stack())\n",
    "\n",
    "        tgt = tgt[-data_test.n_days :].to(device)\n",
    "\n",
    "        ic_s = torch.nan_to_num(batch_pearsonr(pred, tgt), nan=0)\n",
    "        rank_ic_s = torch.nan_to_num(batch_spearmanr(pred, tgt), nan=0)\n",
    "\n",
    "        cur_seed_ic.append(ic_s)\n",
    "        cur_seed_ric.append(rank_ic_s)\n",
    "\n",
    "    pred_dfs[f\"{n_factors}_{seed}\"] = pd.concat(all_pred_df_list, axis=0)\n",
    "    ic = torch.cat(cur_seed_ic)\n",
    "    rank_ic = torch.cat(cur_seed_ric)\n",
    "\n",
    "    ic_mean = ic.mean().item()\n",
    "    rank_ic_mean = rank_ic.mean().item()\n",
    "    ic_std = ic.std().item()\n",
    "    rank_ic_std = rank_ic.std().item()\n",
    "    tmp = dict(\n",
    "        seed=seed,\n",
    "        num=n_factors,\n",
    "        ic=ic_mean,\n",
    "        ric=rank_ic_mean,\n",
    "        icir=ic_mean / ic_std,\n",
    "        ricir=rank_ic_mean / rank_ic_std,\n",
    "    )\n",
    "    result.append(tmp)"
   ]
  },
  {
   "cell_type": "code",
   "execution_count": 9,
   "metadata": {},
   "outputs": [
    {
     "name": "stdout",
     "output_type": "stream",
     "text": [
      "           ic           ric          icir         ricir    \n",
      "         mean std      mean std      mean std      mean std\n",
      "num                                                        \n",
      "10   0.069798 NaN  0.060873 NaN  1.358912 NaN  1.019467 NaN\n"
     ]
    }
   ],
   "source": [
    "import pandas as pd\n",
    "run_result = pd.DataFrame(result).groupby(['num','seed']).mean().groupby('num').agg(['mean','std'])\n",
    "print(run_result)"
   ]
  }
 ],
 "metadata": {
  "kernelspec": {
   "display_name": ".venv",
   "language": "python",
   "name": "python3"
  },
  "language_info": {
   "codemirror_mode": {
    "name": "ipython",
    "version": 3
   },
   "file_extension": ".py",
   "mimetype": "text/x-python",
   "name": "python",
   "nbconvert_exporter": "python",
   "pygments_lexer": "ipython3",
   "version": "3.10.17"
  }
 },
 "nbformat": 4,
 "nbformat_minor": 2
}
